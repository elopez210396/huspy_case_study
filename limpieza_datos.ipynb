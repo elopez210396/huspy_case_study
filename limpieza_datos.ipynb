{
 "cells": [
  {
   "cell_type": "code",
   "execution_count": 1,
   "metadata": {},
   "outputs": [],
   "source": [
    "import pandas as pd"
   ]
  },
  {
   "cell_type": "code",
   "execution_count": 2,
   "metadata": {},
   "outputs": [],
   "source": [
    "propiedades = pd.read_excel(\"Huspy Case.xlsx\", sheet_name='Props')\n",
    "estadisticas = pd.read_excel(\"Huspy Case.xlsx\", sheet_name='Estadisticas')\n",
    "clientes = pd.read_excel(\"Huspy Case.xlsx\", sheet_name='Clientes', header=1)"
   ]
  },
  {
   "cell_type": "code",
   "execution_count": 31,
   "metadata": {},
   "outputs": [],
   "source": [
    "propiedades = propiedades[['Nombre de la calle','Planta','Zona','Localidad','Venta o Alquiler',\n",
    "             'Precio','Codigo de la propiedad','Tipo','Dorm','Baños','m²','Fecha alta']]"
   ]
  },
  {
   "cell_type": "code",
   "execution_count": 32,
   "metadata": {},
   "outputs": [],
   "source": [
    "propiedades.drop_duplicates(subset='Codigo de la propiedad', keep='first', inplace=True)"
   ]
  },
  {
   "cell_type": "code",
   "execution_count": null,
   "metadata": {},
   "outputs": [
    {
     "name": "stderr",
     "output_type": "stream",
     "text": [
      "C:\\Users\\elope\\AppData\\Local\\Temp\\ipykernel_19200\\1270324792.py:1: FutureWarning: A value is trying to be set on a copy of a DataFrame or Series through chained assignment using an inplace method.\n",
      "The behavior will change in pandas 3.0. This inplace method will never work because the intermediate object on which we are setting values always behaves as a copy.\n",
      "\n",
      "For example, when doing 'df[col].method(value, inplace=True)', try using 'df.method({col: value}, inplace=True)' or df[col] = df[col].method(value) instead, to perform the operation inplace on the original object.\n",
      "\n",
      "\n",
      "  propiedades['Venta o Alquiler'].replace({'Enta':'Venta'}, inplace=True)\n"
     ]
    }
   ],
   "source": [
    "propiedades['Venta o Alquiler'].replace({'Enta':'Venta'}, inplace=True)"
   ]
  },
  {
   "cell_type": "code",
   "execution_count": null,
   "metadata": {},
   "outputs": [],
   "source": [
    "propiedades['Precio'] = propiedades['Precio'].astype(str).str.replace(r'\\.', '', regex=True)  # Elimina los puntos\n",
    "propiedades['Precio'] = propiedades['Precio'].str.replace('€/mes', '', regex=True).str.replace('€', '', regex=True).str.strip()\n",
    "propiedades['Precio'] = propiedades['Precio'].astype(int)"
   ]
  },
  {
   "cell_type": "code",
   "execution_count": 47,
   "metadata": {},
   "outputs": [],
   "source": [
    "propiedades_madrid = propiedades[propiedades['Localidad'] == 'Madrid']"
   ]
  },
  {
   "cell_type": "code",
   "execution_count": 49,
   "metadata": {},
   "outputs": [
    {
     "data": {
      "text/plain": [
       "Zona\n",
       "Barrio de Salamanca    29\n",
       "Centro                 27\n",
       "Hortaleza              17\n",
       "Moncloa                14\n",
       "Chamberí               14\n",
       "Chamartín              12\n",
       "Fuencarral             11\n",
       "Retiro                 11\n",
       "San Blas                6\n",
       "Barajas                 5\n",
       "Arganzuela              5\n",
       "Moratalaz               4\n",
       "Tetuán                  4\n",
       "Ciudad Lineal           3\n",
       "Puente de Vallecas      3\n",
       "Villa de Vallecas       3\n",
       "Carabanchel             2\n",
       "Vicálvaro               2\n",
       "Usera                   1\n",
       "Villaverde              1\n",
       "Latina                  1\n",
       "Name: count, dtype: int64"
      ]
     },
     "execution_count": 49,
     "metadata": {},
     "output_type": "execute_result"
    }
   ],
   "source": [
    "propiedades_madrid['Zona'].value_counts()"
   ]
  },
  {
   "cell_type": "code",
   "execution_count": 64,
   "metadata": {},
   "outputs": [
    {
     "data": {
      "text/html": [
       "<div>\n",
       "<style scoped>\n",
       "    .dataframe tbody tr th:only-of-type {\n",
       "        vertical-align: middle;\n",
       "    }\n",
       "\n",
       "    .dataframe tbody tr th {\n",
       "        vertical-align: top;\n",
       "    }\n",
       "\n",
       "    .dataframe thead th {\n",
       "        text-align: right;\n",
       "    }\n",
       "</style>\n",
       "<table border=\"1\" class=\"dataframe\">\n",
       "  <thead>\n",
       "    <tr style=\"text-align: right;\">\n",
       "      <th></th>\n",
       "      <th>COD. IDEALISTA</th>\n",
       "      <th>REFERENCIA INTERNA</th>\n",
       "      <th>VISITAS EN LISTADOS</th>\n",
       "      <th>VISITAS EN DETALLE</th>\n",
       "      <th>COMPARTIDO</th>\n",
       "      <th>ENVÍOS EN ALERTAS</th>\n",
       "      <th>TUS FAVORITOS</th>\n",
       "      <th>CONTACTOS</th>\n",
       "    </tr>\n",
       "  </thead>\n",
       "  <tbody>\n",
       "    <tr>\n",
       "      <th>0</th>\n",
       "      <td>107173892</td>\n",
       "      <td>6ee7f---000</td>\n",
       "      <td>8638</td>\n",
       "      <td>1567</td>\n",
       "      <td>7</td>\n",
       "      <td>6913</td>\n",
       "      <td>213</td>\n",
       "      <td>139</td>\n",
       "    </tr>\n",
       "  </tbody>\n",
       "</table>\n",
       "</div>"
      ],
      "text/plain": [
       "   COD. IDEALISTA REFERENCIA INTERNA  VISITAS EN LISTADOS  VISITAS EN DETALLE  \\\n",
       "0       107173892        6ee7f---000                 8638                1567   \n",
       "\n",
       "   COMPARTIDO  ENVÍOS EN ALERTAS  TUS FAVORITOS  CONTACTOS  \n",
       "0           7               6913            213        139  "
      ]
     },
     "execution_count": 64,
     "metadata": {},
     "output_type": "execute_result"
    }
   ],
   "source": [
    "estadisticas.head(1)"
   ]
  },
  {
   "cell_type": "code",
   "execution_count": 65,
   "metadata": {},
   "outputs": [],
   "source": [
    "ids_propiedades = propiedades_madrid['Codigo de la propiedad'].unique()\n",
    "estadisticas_madrid = estadisticas[estadisticas['REFERENCIA INTERNA'].isin(ids_propiedades)]"
   ]
  },
  {
   "cell_type": "code",
   "execution_count": 66,
   "metadata": {},
   "outputs": [],
   "source": [
    "estadisticas_madrid = pd.merge(propiedades_madrid, estadisticas_madrid, left_on='Codigo de la propiedad', right_on='REFERENCIA INTERNA', how='left')"
   ]
  },
  {
   "cell_type": "code",
   "execution_count": 73,
   "metadata": {},
   "outputs": [
    {
     "data": {
      "text/html": [
       "<div>\n",
       "<style scoped>\n",
       "    .dataframe tbody tr th:only-of-type {\n",
       "        vertical-align: middle;\n",
       "    }\n",
       "\n",
       "    .dataframe tbody tr th {\n",
       "        vertical-align: top;\n",
       "    }\n",
       "\n",
       "    .dataframe thead th {\n",
       "        text-align: right;\n",
       "    }\n",
       "</style>\n",
       "<table border=\"1\" class=\"dataframe\">\n",
       "  <thead>\n",
       "    <tr style=\"text-align: right;\">\n",
       "      <th></th>\n",
       "      <th>VISITAS EN LISTADOS</th>\n",
       "      <th>VISITAS EN DETALLE</th>\n",
       "      <th>TUS FAVORITOS</th>\n",
       "    </tr>\n",
       "    <tr>\n",
       "      <th>Zona</th>\n",
       "      <th></th>\n",
       "      <th></th>\n",
       "      <th></th>\n",
       "    </tr>\n",
       "  </thead>\n",
       "  <tbody>\n",
       "    <tr>\n",
       "      <th>Latina</th>\n",
       "      <td>23786.000000</td>\n",
       "      <td>1659.000000</td>\n",
       "      <td>201.000000</td>\n",
       "    </tr>\n",
       "    <tr>\n",
       "      <th>Moratalaz</th>\n",
       "      <td>76626.000000</td>\n",
       "      <td>1584.750000</td>\n",
       "      <td>87.750000</td>\n",
       "    </tr>\n",
       "    <tr>\n",
       "      <th>Villa de Vallecas</th>\n",
       "      <td>61726.666667</td>\n",
       "      <td>1496.333333</td>\n",
       "      <td>106.333333</td>\n",
       "    </tr>\n",
       "    <tr>\n",
       "      <th>Tetuán</th>\n",
       "      <td>26347.500000</td>\n",
       "      <td>1423.500000</td>\n",
       "      <td>124.500000</td>\n",
       "    </tr>\n",
       "    <tr>\n",
       "      <th>Carabanchel</th>\n",
       "      <td>26709.000000</td>\n",
       "      <td>1396.500000</td>\n",
       "      <td>128.500000</td>\n",
       "    </tr>\n",
       "    <tr>\n",
       "      <th>Arganzuela</th>\n",
       "      <td>54703.400000</td>\n",
       "      <td>964.400000</td>\n",
       "      <td>52.800000</td>\n",
       "    </tr>\n",
       "    <tr>\n",
       "      <th>Usera</th>\n",
       "      <td>31633.000000</td>\n",
       "      <td>908.000000</td>\n",
       "      <td>47.000000</td>\n",
       "    </tr>\n",
       "    <tr>\n",
       "      <th>Barajas</th>\n",
       "      <td>30286.166667</td>\n",
       "      <td>799.500000</td>\n",
       "      <td>51.666667</td>\n",
       "    </tr>\n",
       "    <tr>\n",
       "      <th>Moncloa</th>\n",
       "      <td>36405.285714</td>\n",
       "      <td>776.214286</td>\n",
       "      <td>49.571429</td>\n",
       "    </tr>\n",
       "    <tr>\n",
       "      <th>Hortaleza</th>\n",
       "      <td>33903.588235</td>\n",
       "      <td>729.705882</td>\n",
       "      <td>44.058824</td>\n",
       "    </tr>\n",
       "    <tr>\n",
       "      <th>Puente de Vallecas</th>\n",
       "      <td>38494.333333</td>\n",
       "      <td>602.333333</td>\n",
       "      <td>34.333333</td>\n",
       "    </tr>\n",
       "    <tr>\n",
       "      <th>Fuencarral</th>\n",
       "      <td>20952.923077</td>\n",
       "      <td>476.384615</td>\n",
       "      <td>30.692308</td>\n",
       "    </tr>\n",
       "    <tr>\n",
       "      <th>San Blas</th>\n",
       "      <td>16134.833333</td>\n",
       "      <td>423.666667</td>\n",
       "      <td>25.166667</td>\n",
       "    </tr>\n",
       "    <tr>\n",
       "      <th>Centro</th>\n",
       "      <td>12009.633333</td>\n",
       "      <td>414.200000</td>\n",
       "      <td>36.133333</td>\n",
       "    </tr>\n",
       "    <tr>\n",
       "      <th>Vicálvaro</th>\n",
       "      <td>25597.500000</td>\n",
       "      <td>409.500000</td>\n",
       "      <td>38.500000</td>\n",
       "    </tr>\n",
       "    <tr>\n",
       "      <th>Chamberí</th>\n",
       "      <td>16571.533333</td>\n",
       "      <td>367.200000</td>\n",
       "      <td>27.066667</td>\n",
       "    </tr>\n",
       "    <tr>\n",
       "      <th>Barrio de Salamanca</th>\n",
       "      <td>8747.656250</td>\n",
       "      <td>354.093750</td>\n",
       "      <td>26.468750</td>\n",
       "    </tr>\n",
       "    <tr>\n",
       "      <th>Chamartín</th>\n",
       "      <td>20611.076923</td>\n",
       "      <td>334.000000</td>\n",
       "      <td>20.230769</td>\n",
       "    </tr>\n",
       "    <tr>\n",
       "      <th>Retiro</th>\n",
       "      <td>8778.307692</td>\n",
       "      <td>292.538462</td>\n",
       "      <td>22.384615</td>\n",
       "    </tr>\n",
       "    <tr>\n",
       "      <th>Villaverde</th>\n",
       "      <td>16621.000000</td>\n",
       "      <td>228.000000</td>\n",
       "      <td>8.000000</td>\n",
       "    </tr>\n",
       "    <tr>\n",
       "      <th>Ciudad Lineal</th>\n",
       "      <td>5980.000000</td>\n",
       "      <td>146.000000</td>\n",
       "      <td>6.750000</td>\n",
       "    </tr>\n",
       "  </tbody>\n",
       "</table>\n",
       "</div>"
      ],
      "text/plain": [
       "                     VISITAS EN LISTADOS  VISITAS EN DETALLE  TUS FAVORITOS\n",
       "Zona                                                                       \n",
       "Latina                      23786.000000         1659.000000     201.000000\n",
       "Moratalaz                   76626.000000         1584.750000      87.750000\n",
       "Villa de Vallecas           61726.666667         1496.333333     106.333333\n",
       "Tetuán                      26347.500000         1423.500000     124.500000\n",
       "Carabanchel                 26709.000000         1396.500000     128.500000\n",
       "Arganzuela                  54703.400000          964.400000      52.800000\n",
       "Usera                       31633.000000          908.000000      47.000000\n",
       "Barajas                     30286.166667          799.500000      51.666667\n",
       "Moncloa                     36405.285714          776.214286      49.571429\n",
       "Hortaleza                   33903.588235          729.705882      44.058824\n",
       "Puente de Vallecas          38494.333333          602.333333      34.333333\n",
       "Fuencarral                  20952.923077          476.384615      30.692308\n",
       "San Blas                    16134.833333          423.666667      25.166667\n",
       "Centro                      12009.633333          414.200000      36.133333\n",
       "Vicálvaro                   25597.500000          409.500000      38.500000\n",
       "Chamberí                    16571.533333          367.200000      27.066667\n",
       "Barrio de Salamanca          8747.656250          354.093750      26.468750\n",
       "Chamartín                   20611.076923          334.000000      20.230769\n",
       "Retiro                       8778.307692          292.538462      22.384615\n",
       "Villaverde                  16621.000000          228.000000       8.000000\n",
       "Ciudad Lineal                5980.000000          146.000000       6.750000"
      ]
     },
     "execution_count": 73,
     "metadata": {},
     "output_type": "execute_result"
    }
   ],
   "source": [
    "estadisticas_madrid.groupby(['Zona']).agg({'VISITAS EN LISTADOS':'mean', 'VISITAS EN DETALLE':'mean', 'TUS FAVORITOS':'mean' }).sort_values(by='VISITAS EN DETALLE', ascending=False)"
   ]
  },
  {
   "cell_type": "code",
   "execution_count": null,
   "metadata": {},
   "outputs": [],
   "source": []
  }
 ],
 "metadata": {
  "kernelspec": {
   "display_name": "myenv",
   "language": "python",
   "name": "python3"
  },
  "language_info": {
   "codemirror_mode": {
    "name": "ipython",
    "version": 3
   },
   "file_extension": ".py",
   "mimetype": "text/x-python",
   "name": "python",
   "nbconvert_exporter": "python",
   "pygments_lexer": "ipython3",
   "version": "3.9.16"
  }
 },
 "nbformat": 4,
 "nbformat_minor": 2
}
